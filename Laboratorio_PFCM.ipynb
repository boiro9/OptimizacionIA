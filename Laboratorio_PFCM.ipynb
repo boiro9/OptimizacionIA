{
 "cells": [
  {
   "cell_type": "markdown",
   "id": "b5a9970a",
   "metadata": {},
   "source": [
    "# 🧮 Laboratorio: Problema de Flujo en Redes a Coste Mínimo (PFCM)\n",
    "\n",
    "En esta práctica vamos a modelar e implementar en **Pyomo** la formulación general de un problema de flujo en redes a coste mínimo. Luego, emplearemos la función desarrollada para resolver los problemas planteado en el boletín."
   ]
  },
  {
   "cell_type": "markdown",
   "id": "31a01af8",
   "metadata": {},
   "source": [
    "# Recursos Pyomo\n",
    "\n",
    "- **Curso de introducción a Pyomo**:   \n",
    "https://boiro9.github.io/curso-OptPy/\n",
    "- Web de referencia de Pyomo:  \n",
    "http://www.pyomo.org/\n",
    "- Libro de referencia para practicar con muchos ejemplos:  \n",
    "[Hands-On Mathematical Optimization with Python](https://mobook.github.io/MO-book/intro.html#)\n",
    "- Libro referencia de problemas implementados en Pyomo:  \n",
    "https://jckantor.github.io/ND-Pyomo-Cookbook/README.html"
   ]
  },
  {
   "cell_type": "markdown",
   "id": "af648eb6",
   "metadata": {},
   "source": [
    "# 🚀  Instalación de paquetes:\n",
    "Para poder llevar a cabo esta práctica es necesario disponer de la librería **Pyomo** y de algunos solvers para resolver los problemas de optimización que se plantean.\n",
    "\n",
    "Una opción sencilla para acceder a los solvers es emplear los ejecutables que ya tiene preparados **AMPL** para poder utilizarlos con Python. En el apartado [Using from Pyomo](https://dev.ampl.com/ampl/python/modules.html) aparece explicado cómo instalarlos y usarlos.  \n",
    "\n",
    "Si ejecutas la siguiente celda se instalará todo lo necesario:"
   ]
  },
  {
   "cell_type": "code",
   "execution_count": null,
   "id": "9595d3c5",
   "metadata": {},
   "outputs": [],
   "source": [
    "# Instalación de dependencias (ejecutar una sola vez)\n",
    "# Instalar pyomo y amplpy\n",
    "!pip install pyomo amplpy -q\n",
    "# Instalar los solvers: HiGHS, CBC, Couenne, Bonmin, Ipopt, SCIP y GCG\n",
    "!python -m amplpy.modules install coin highs scip gcg -q"
   ]
  },
  {
   "cell_type": "markdown",
   "id": "30d2ec64",
   "metadata": {},
   "source": [
    "Prueba que te funciona correctamente ejecutando el siguiente código, que contiene un modelo de optimización muy sencillo, donde puedes ver cómo configurar el solver:"
   ]
  },
  {
   "cell_type": "code",
   "execution_count": null,
   "id": "152946d7",
   "metadata": {},
   "outputs": [],
   "source": [
    "from amplpy import modules\n",
    "import pyomo.environ as pyo\n",
    "\n",
    "solver_name = \"highs\"  # Opciones: \"highs\", \"cbc\", \"couenne\", \"bonmin\", \"ipopt\", \"scip\", \"gcg\".\n",
    "solver = pyo.SolverFactory(\n",
    "    solver_name+\"nl\",\n",
    "    executable=modules.find(solver_name),\n",
    "    solve_io=\"nl\"\n",
    ")\n",
    "\n",
    "model = pyo.ConcreteModel('Test Model')\n",
    "model.x = pyo.Var([1,2], domain=pyo.NonNegativeReals)\n",
    "model.OBJ = pyo.Objective(expr=2*model.x[1] + 3*model.x[2])\n",
    "model.Constraint1 = pyo.Constraint(expr=3*model.x[1] + 4*model.x[2] >= 1)\n",
    "\n",
    "solver.solve(model, tee=True)\n",
    "model.display()"
   ]
  },
  {
   "cell_type": "markdown",
   "id": "fb0173e7",
   "metadata": {},
   "source": [
    "# 💻 Formulación en Pyomo de un PFCM"
   ]
  },
  {
   "cell_type": "markdown",
   "id": "ff9c7ce4",
   "metadata": {},
   "source": [
    "Se desea implementar una función en Python que permita resolver cualquier Problema de Flujo en Redes con Coste Mínimo (PFCM) (inlcuyendo flujos externos fijos) de forma general:"
   ]
  },
  {
   "cell_type": "markdown",
   "id": "26ffc9f0",
   "metadata": {},
   "source": [
    "$$\n",
    "\\begin{array}{rlll}\n",
    "\\min & \\displaystyle \\sum_{k\\in M} c_k f_k & & \\\\\n",
    "&&& \\\\\n",
    "\\text{s.a.} & \\displaystyle (1)\\quad \\sum_{k\\in M_{O_i}} f_k - \\sum_{k\\in M_{T_i}} f_k=e_i & &i\\in N \\\\\n",
    "\t& \\displaystyle (2)\\quad f_k\\leq u_k & & k\\in M \\\\\n",
    "\t& \\displaystyle (3)\\quad f_k\\geq l_k & &k\\in M. \\\\\n",
    "\\end{array}\n",
    "$$"
   ]
  },
  {
   "cell_type": "markdown",
   "id": "7ddca064",
   "metadata": {},
   "source": [
    "Entonces, necesitamos tener la siguiente información:  \n",
    "- Para cada nodo $i\\in N$:  \n",
    "  - $e_{i}$: que será el flujo externo **fijo** asociado al nodo $i$.  \n",
    "        \n",
    "- Para cada arista $k\\in M$, necesitamos disponer de tres datos:  \n",
    "  - $l_{k}$: la cota inferior del flujo en la arista $k$.\n",
    "  - $u_{k}$: la cota superior del flujo en la arista $k$.\n",
    "  - $c_{k}$: el coste asociado al flujo en la arista $k$."
   ]
  },
  {
   "cell_type": "markdown",
   "id": "232cf973",
   "metadata": {},
   "source": [
    "A la hora de llevar a cabo la implementación, esta información se pasará empleando dos diccionarios:\n",
    "- **nodos\\_info**: su key será la referencia $i$ al nodo y como valor el correspondiente flujo externo $e_{i}$.\n",
    "- **arcos\\_info**: su key será una tupla $(i,j)$ siendo $i$ el nodo inicial y $j$ el nodo final. El valor asociado a un arco $k=(i,j)$ vendrá especificado como una lista de tres valores de forma que: $[l_{k},u_{k},c_{k}]$\n",
    "\n",
    "A continuación mostramos cómo serían dichos diccionarios para el caso del **ejercicio 2** del boletín de PFCM."
   ]
  },
  {
   "cell_type": "code",
   "execution_count": null,
   "id": "87c94d31",
   "metadata": {},
   "outputs": [],
   "source": [
    "# Información de los nodos:\n",
    "nodos_info2 = {\n",
    "    i+1: 0 for i in range(7)\n",
    "}\n",
    "\n",
    "# Información de los arcos:\n",
    "arcos_info2 = {\n",
    "    (1,4):[0,float(\"inf\"),3],\n",
    "    (1,5):[0,float(\"inf\"),1],\n",
    "    (2,4):[0,float(\"inf\"),4],\n",
    "    (2,5):[0,float(\"inf\"),2],\n",
    "    (3,5):[0,float(\"inf\"),3],\n",
    "    (3,6):[0,float(\"inf\"),3],\n",
    "    (4,7):[3,3,0],\n",
    "    (5,7):[3,3,0],\n",
    "    (6,7):[3,3,0],\n",
    "    (7,1):[0,4,0],\n",
    "    (7,2):[0,2,0],\n",
    "    (7,3):[0,3,0]\n",
    "}"
   ]
  },
  {
   "cell_type": "code",
   "execution_count": null,
   "id": "61037803",
   "metadata": {},
   "outputs": [],
   "source": [
    "nodos_info2"
   ]
  },
  {
   "cell_type": "code",
   "execution_count": null,
   "id": "ae59ad97",
   "metadata": {},
   "outputs": [],
   "source": [
    "arcos_info2"
   ]
  },
  {
   "cell_type": "markdown",
   "id": "e195017a",
   "metadata": {},
   "source": [
    "🧠 **Ejercicio**:  \n",
    "Programar una función llamada `solve_PFCM(nodos_info,arcos_info)` que, tomando como argumentos de entrada los dos diccionarios anteriores, `nodos_info` y `arcos_info`, formule el correspondiente PFCM con **Pyomo** y lo resuelva. "
   ]
  },
  {
   "cell_type": "code",
   "execution_count": null,
   "id": "987d5819",
   "metadata": {},
   "outputs": [],
   "source": [
    "import pyomo.environ as pe\n",
    "\n",
    "def solve_PFCM(nodos_info,arcos_info):\n",
    "    \n",
    "    # Crear el modelo\n",
    "    m = pe.ConcreteModel()\n",
    "    \n",
    "    # TODO: Completar el modelo\n",
    "    \n",
    "    return m"
   ]
  },
  {
   "cell_type": "markdown",
   "id": "4e665457",
   "metadata": {},
   "source": [
    "## Resolvemos el ejercicio 2:"
   ]
  },
  {
   "cell_type": "code",
   "execution_count": null,
   "id": "eccf05ab",
   "metadata": {},
   "outputs": [],
   "source": [
    "# Información de los nodos:\n",
    "nodos_info2 = {\n",
    "    i+1: 0 for i in range(7)\n",
    "}\n",
    "\n",
    "# Información de los arcos:\n",
    "arcos_info2 = {\n",
    "    (1,4):[0,float(\"inf\"),3],\n",
    "    (1,5):[0,float(\"inf\"),1],\n",
    "    (2,4):[0,float(\"inf\"),4],\n",
    "    (2,5):[0,float(\"inf\"),2],\n",
    "    (3,5):[0,float(\"inf\"),3],\n",
    "    (3,6):[0,float(\"inf\"),3],\n",
    "    (4,7):[3,3,0],\n",
    "    (5,7):[3,3,0],\n",
    "    (6,7):[3,3,0],\n",
    "    (7,1):[0,4,0],\n",
    "    (7,2):[0,2,0],\n",
    "    (7,3):[0,3,0]\n",
    "}"
   ]
  },
  {
   "cell_type": "code",
   "execution_count": null,
   "id": "f7aee534",
   "metadata": {},
   "outputs": [],
   "source": [
    "modelo2 = solve_PFCM(nodos_info2,arcos_info2)\n",
    "print('Funcion Objetivo: ',modelo2.obj_fun())\n",
    "modelo2.flujo.display()"
   ]
  }
 ],
 "metadata": {
  "kernelspec": {
   "display_name": "venv_IA",
   "language": "python",
   "name": "python3"
  },
  "language_info": {
   "codemirror_mode": {
    "name": "ipython",
    "version": 3
   },
   "file_extension": ".py",
   "mimetype": "text/x-python",
   "name": "python",
   "nbconvert_exporter": "python",
   "pygments_lexer": "ipython3",
   "version": "3.13.9"
  }
 },
 "nbformat": 4,
 "nbformat_minor": 5
}
