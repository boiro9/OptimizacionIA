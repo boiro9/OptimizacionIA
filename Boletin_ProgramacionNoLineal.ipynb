{
 "cells": [
  {
   "cell_type": "markdown",
   "id": "fb0173e7",
   "metadata": {},
   "source": [
    "# Boletín Tema 6: Problemas de Optimización No Lineal\n",
    "\n",
    "[![Open in Binder](https://mybinder.org/badge_logo.svg)](https://mybinder.org/v2/gh/boiro9/OptimizacionIA/main?filepath=Boletin_ProgramacionNoLineal.ipynb)\n",
    "\n",
    "🎯 En este jupyter se resolverán con Pyomo los problemas planteados en el boletín de ejercicios asociados al Tema 6 de Problemas de Optimización No Lineal. "
   ]
  },
  {
   "cell_type": "markdown",
   "id": "18d7d057-f3dc-40e0-93db-993ff8445432",
   "metadata": {},
   "source": [
    "# 🚀  Instalación de paquetes:\n",
    "\n",
    "Los requerimientos para poder ejecutar este jupyter son los siguientes:"
   ]
  },
  {
   "cell_type": "code",
   "execution_count": 27,
   "id": "16890ec0-b5ec-48ed-9c6c-c4c793b623b0",
   "metadata": {},
   "outputs": [],
   "source": [
    "# Instalar pyomo, amplpy, numpy y plotly\n",
    "!pip install pyomo amplpy numpy plotly -q\n",
    "# Instalar los solvers: HiGHS, CBC, Couenne, Bonmin, Ipopt, SCIP y GCG\n",
    "!python -m amplpy.modules install coin highs scip gcg -q"
   ]
  },
  {
   "cell_type": "markdown",
   "id": "f9b9eb50-d619-40c7-81d3-a7ce4a131e49",
   "metadata": {},
   "source": [
    "<div style=\"border:1px solid #f0ad4e; padding:10px; border-radius:5px; background-color:#fcf8e3;\">\n",
    "<strong>⚠️ Advertencia: </strong>  <br>\n",
    "Los nuevos paquetes que se utilizan son: <code>numpy</code> y <code>plotly</code>. Si ya has instalado previamente estos paquetes, y utilizas el mismo entorno de Python, <b>NO</b> es necesario que los vuelvas a instalar. \n",
    "</div>"
   ]
  },
  {
   "cell_type": "markdown",
   "id": "9b2dc8bb",
   "metadata": {},
   "source": [
    "# Problema 1"
   ]
  },
  {
   "cell_type": "markdown",
   "id": "49607ac0",
   "metadata": {},
   "source": [
    "$$\n",
    "\\begin{array}{rl}\n",
    "\\max       & 3x+2y+z \\\\\n",
    "\\text{s.a.}& 2x^{2}+y^{2}+z \\leq 10 \\\\\n",
    "           & x+y+z\\geq 1\\\\\n",
    "\t\t\t\t\t & x\\leq 0, z\\geq 0\n",
    "\\end{array}\n",
    "$$"
   ]
  },
  {
   "cell_type": "code",
   "execution_count": 2,
   "id": "eb59655a",
   "metadata": {},
   "outputs": [],
   "source": [
    "import pyomo.environ as pe\n",
    "\n",
    "modelo1 = pe.ConcreteModel()\n",
    "\n",
    "# Variables\n",
    "modelo1.x = pe.Var(within=pe.NonPositiveReals) \n",
    "#modelo1.x = pe.Var(bounds=(-float(\"Inf\"),0)) # También se pueden especificar cotas con \"bounds\"\n",
    "modelo1.y = pe.Var()\n",
    "modelo1.z = pe.Var(within=pe.NonNegativeReals)\n",
    "\n",
    "# Función objetivo\n",
    "modelo1.obj = pe.Objective(expr=3*modelo1.x+2*modelo1.y+modelo1.z,sense=pe.maximize)\n",
    "\n",
    "# Restricción 1:\n",
    "modelo1.cons1 = pe.Constraint(expr=2*modelo1.x**2 + modelo1.y**2+modelo1.z <= 10)\n",
    "\n",
    "# Restricción 2:\n",
    "modelo1.cons2 = pe.Constraint(expr=modelo1.x + modelo1.y+modelo1.z >= 1)\n"
   ]
  },
  {
   "cell_type": "markdown",
   "id": "cc5d1bc8",
   "metadata": {},
   "source": [
    "Ahora especificamos el solver que queremos utilizar. Una vez lo definimos, para las siguiente resoluciones no es necesario definirlo de nuevo."
   ]
  },
  {
   "cell_type": "code",
   "execution_count": 3,
   "id": "c8955eb4",
   "metadata": {},
   "outputs": [],
   "source": [
    "from amplpy import modules\n",
    "solver_name = \"ipopt\"  # Opciones: \"highs\", \"cbc\", \"couenne\", \"bonmin\", \"ipopt\", \"scip\", \"gcg\".\n",
    "solver_ipopt = pe.SolverFactory(\n",
    "    solver_name+\"nl\",\n",
    "    executable=modules.find(solver_name),\n",
    "    solve_io=\"nl\"\n",
    ")"
   ]
  },
  {
   "cell_type": "code",
   "execution_count": 4,
   "id": "27de90e9",
   "metadata": {},
   "outputs": [
    {
     "name": "stdout",
     "output_type": "stream",
     "text": [
      "*** Solucion *** :\n",
      "x: 0.0\n",
      "y: 0.9999999995823128\n",
      "z: 9.000000098329602\n",
      "Funcion objetivo:  11.000000097494228\n"
     ]
    }
   ],
   "source": [
    "results = solver_ipopt.solve(modelo1)\n",
    "print('*** Solucion *** :')\n",
    "print('x:', modelo1.x())\n",
    "print('y:', modelo1.y())\n",
    "print('z:', modelo1.z())\n",
    "print('Funcion objetivo: ',modelo1.obj())"
   ]
  },
  {
   "cell_type": "code",
   "execution_count": 5,
   "id": "b7a761cb",
   "metadata": {},
   "outputs": [
    {
     "name": "stdout",
     "output_type": "stream",
     "text": [
      "3 Var Declarations\n",
      "    x : Size=1, Index=None\n",
      "        Key  : Lower : Value : Upper : Fixed : Stale : Domain\n",
      "        None :  None :   0.0 :     0 : False : False : NonPositiveReals\n",
      "    y : Size=1, Index=None\n",
      "        Key  : Lower : Value              : Upper : Fixed : Stale : Domain\n",
      "        None :  None : 0.9999999995823128 :  None : False : False :  Reals\n",
      "    z : Size=1, Index=None\n",
      "        Key  : Lower : Value             : Upper : Fixed : Stale : Domain\n",
      "        None :     0 : 9.000000098329602 :  None : False : False : NonNegativeReals\n",
      "\n",
      "1 Objective Declarations\n",
      "    obj : Size=1, Index=None, Active=True\n",
      "        Key  : Active : Sense    : Expression\n",
      "        None :   True : maximize : 3*x + 2*y + z\n",
      "\n",
      "2 Constraint Declarations\n",
      "    cons1 : Size=1, Index=None, Active=True\n",
      "        Key  : Lower : Body              : Upper : Active\n",
      "        None :  -Inf : 2*x**2 + y**2 + z :  10.0 :   True\n",
      "    cons2 : Size=1, Index=None, Active=True\n",
      "        Key  : Lower : Body      : Upper : Active\n",
      "        None :   1.0 : x + y + z :  +Inf :   True\n",
      "\n",
      "6 Declarations: x y z obj cons1 cons2\n"
     ]
    }
   ],
   "source": [
    "modelo1.pprint()"
   ]
  },
  {
   "cell_type": "markdown",
   "id": "4439c9b0",
   "metadata": {},
   "source": [
    "A continuación calculamos los **multiplicadores de Lagrange** asociados a la solución obtenida:"
   ]
  },
  {
   "cell_type": "code",
   "execution_count": 6,
   "id": "5aeadd14",
   "metadata": {},
   "outputs": [],
   "source": [
    "modelo1.dual = pe.Suffix(direction=pe.Suffix.IMPORT)\n",
    "results = solver_ipopt.solve(modelo1)"
   ]
  },
  {
   "cell_type": "code",
   "execution_count": 7,
   "id": "34528d80",
   "metadata": {},
   "outputs": [
    {
     "name": "stdout",
     "output_type": "stream",
     "text": [
      "dual : Direction=IMPORT, Datatype=FLOAT\n",
      "    Key   : Value\n",
      "    cons1 :      1.0000000005567407\n",
      "    cons2 : -2.7835979663186923e-10\n"
     ]
    }
   ],
   "source": [
    "modelo1.dual.pprint()"
   ]
  },
  {
   "cell_type": "code",
   "execution_count": 8,
   "id": "08265757",
   "metadata": {},
   "outputs": [
    {
     "data": {
      "text/plain": [
       "1.0000000005567407"
      ]
     },
     "execution_count": 8,
     "metadata": {},
     "output_type": "execute_result"
    }
   ],
   "source": [
    "modelo1.dual[modelo1.cons1]"
   ]
  },
  {
   "cell_type": "code",
   "execution_count": 9,
   "id": "2d155de5",
   "metadata": {},
   "outputs": [
    {
     "data": {
      "text/plain": [
       "-2.7835979663186923e-10"
      ]
     },
     "execution_count": 9,
     "metadata": {},
     "output_type": "execute_result"
    }
   ],
   "source": [
    "modelo1.dual[modelo1.cons2]"
   ]
  },
  {
   "cell_type": "markdown",
   "id": "b2202979",
   "metadata": {},
   "source": [
    "# Problema 2:"
   ]
  },
  {
   "cell_type": "markdown",
   "id": "e5b1a4bb",
   "metadata": {},
   "source": [
    "$$\n",
    "\\begin{array}{rl}\n",
    "\\min       & x+y\\\\\n",
    "\\text{s.a.}& x^{3}+y \\leq 25 \\\\\n",
    "           & x^{4}+2y \\geq 16 \\\\\n",
    "\t\t\t\t\t & x^{2}+3y \\leq 20 \\\\\n",
    "\t\t\t\t\t & y\\geq 0\n",
    "\\end{array}\n",
    "$$"
   ]
  },
  {
   "cell_type": "markdown",
   "id": "f53c1fdf",
   "metadata": {},
   "source": [
    "Comenzamos representando gráficamemte la **región factible**:"
   ]
  },
  {
   "cell_type": "code",
   "execution_count": 10,
   "id": "651d6a02",
   "metadata": {},
   "outputs": [
    {
     "data": {
      "text/html": [
       "<iframe\n",
       "    scrolling=\"no\"\n",
       "    width=\"100%\"\n",
       "    height=\"545px\"\n",
       "    src=\"iframe_figures/figure_10.html\"\n",
       "    frameborder=\"0\"\n",
       "    allowfullscreen\n",
       "></iframe>\n"
      ]
     },
     "metadata": {},
     "output_type": "display_data"
    }
   ],
   "source": [
    "import numpy as np\n",
    "import plotly.io as pio\n",
    "import plotly.graph_objects as go\n",
    "pio.renderers.default = 'iframe_connected'\n",
    "\n",
    "fig = go.Figure()\n",
    "xvar = np.linspace(-5,5,100) # -5<= x <= 5\n",
    "cons1 = 25-xvar**3\n",
    "cons2 = (16-xvar**4)/2\n",
    "cons3 = (20-xvar**2)/3\n",
    "ymin = min(cons1.min(),cons2.min(),cons3.min())\n",
    "ymax = max(cons1.max(),cons2.max(),cons3.max())\n",
    "\n",
    "fig.update_xaxes(\n",
    "   range=[-5,5],  # sets the range of xaxis\n",
    "    constrain=\"domain\",                # meanwhile compresses the xaxis by decreasing its \"domain\"\n",
    ")\n",
    "fig.update_yaxes(\n",
    "    range=[0,7],  # sets the range of xaxis\n",
    "    constrain=\"domain\",  # meanwhile compresses the xaxis by decreasing its \"domain\"\n",
    ")\n",
    "\n",
    "# Constraint 1\n",
    "fig.add_trace(go.Scatter(x=xvar, y=cons1, fill=None, mode='lines', line_color='red', name=\"Cons1\")) \n",
    "fig.add_trace(go.Scatter(x=[-5,5], y=[ymin,ymin], fill='tonexty',mode='lines', line_color='red', name=\"Cons1 Factible\"))#fillcolor='lightblue', line=dict(color=\"white\"))) \n",
    "\n",
    "# Constraint 2\n",
    "fig.add_trace(go.Scatter(x=xvar, y=cons2, fill=None, mode='lines', line_color='blue', name=\"Cons2\"))\n",
    "fig.add_trace(go.Scatter(x=[-5,5], y=[ymax,ymax], fill='tonexty', mode='lines', line_color='blue', name=\"Cons2 Factible\"))#, fillcolor='lightblue', line=dict(color=\"white\"))) \n",
    "\n",
    "# Constraint 3\n",
    "fig.add_trace(go.Scatter(x=xvar, y=cons3, fill=None, mode='lines', line_color='green', name=\"Cons3\")) \n",
    "fig.add_trace(go.Scatter(x=[-5,5], y=[ymin,ymin], fill='tonexty', mode='lines', line_color='green', name=\"Cons3 Factible\"))#, fillcolor='lightblue', line=dict(color=\"white\")))\n",
    "\n",
    "fig.show()"
   ]
  },
  {
   "cell_type": "markdown",
   "id": "6d776fbb",
   "metadata": {},
   "source": [
    "Se puede observar claramente que la región factible es **NO convexa**. A continuación resolvemos el problema empleando **pyomo**:"
   ]
  },
  {
   "cell_type": "code",
   "execution_count": 11,
   "id": "8e6c9731",
   "metadata": {},
   "outputs": [],
   "source": [
    "import pyomo.environ as pe\n",
    "\n",
    "mod2 = pe.ConcreteModel()\n",
    "\n",
    "# Variables\n",
    "mod2.x = pe.Var() \n",
    "mod2.y = pe.Var() #Importante: no especificar cotas a la variable. \n",
    "\n",
    "# Función objetivo\n",
    "mod2.obj = pe.Objective(expr=mod2.x+mod2.y,sense=pe.minimize)\n",
    "\n",
    "# Restricción 1:\n",
    "mod2.cons1 = pe.Constraint(expr=mod2.x**3 + mod2.y <= 25)\n",
    "\n",
    "# Restricción 2:\n",
    "mod2.cons2 = pe.Constraint(expr=mod2.x**4 + 2*mod2.y >= 16)\n",
    "\n",
    "# Restricción 3:\n",
    "mod2.cons3 = pe.Constraint(expr=mod2.x**2 + 3*mod2.y <= 20)\n",
    "\n",
    "# Restricción 4:\n",
    "mod2.cons4 = pe.Constraint(expr=mod2.y >= 0)"
   ]
  },
  {
   "cell_type": "code",
   "execution_count": 12,
   "id": "90151121",
   "metadata": {},
   "outputs": [
    {
     "name": "stdout",
     "output_type": "stream",
     "text": [
      "*** Solucion *** :\n",
      "x: -4.472135977573311\n",
      "y: -8.122380974988762e-09\n",
      "Funcion objetivo:  -4.472135985695692\n"
     ]
    }
   ],
   "source": [
    "results2 = solver_ipopt.solve(mod2)\n",
    "print('*** Solucion *** :')\n",
    "print('x:', mod2.x())\n",
    "print('y:', mod2.y())\n",
    "print('Funcion objetivo: ',mod2.obj())"
   ]
  },
  {
   "cell_type": "markdown",
   "id": "44303ae2",
   "metadata": {},
   "source": [
    "Comprobemos si la solución obtenida es un **punto KKT**. Recordemos que $\\pmb{\\bar{x}}$ es un punto **KKT** si cumple que:\n",
    "\\begin{eqnarray*}\n",
    "\\nabla f(\\pmb{\\bar{x}}) + \\sum_{i\\in I(\\pmb{\\bar{x}})}u_{i}\\nabla g_{i}(\\pmb{\\bar{x}})& = &\\pmb{0} \\\\\n",
    "u_{i} & \\geq & 0, \\, \\forall i\\in I(\\pmb{\\bar{x}}) \\\\\n",
    "\\end{eqnarray*}\n",
    "donde $I(\\pmb{\\bar{x}})$ es el índice de las restricciones saturadas en $\\pmb{\\bar{x}}$."
   ]
  },
  {
   "cell_type": "markdown",
   "id": "c4613006",
   "metadata": {},
   "source": [
    "Comprobemos cuáles son las restricciones saturadas en $\\pmb{\\bar{x}}=(-4.47,0)$. Para ello, hacemos un `display` del objeto modelo ya resuelto:"
   ]
  },
  {
   "cell_type": "code",
   "execution_count": 13,
   "id": "4940ce7c",
   "metadata": {},
   "outputs": [
    {
     "name": "stdout",
     "output_type": "stream",
     "text": [
      "Model unknown\n",
      "\n",
      "  Variables:\n",
      "    x : Size=1, Index=None\n",
      "        Key  : Lower : Value              : Upper : Fixed : Stale : Domain\n",
      "        None :  None : -4.472135977573311 :  None : False : False :  Reals\n",
      "    y : Size=1, Index=None\n",
      "        Key  : Lower : Value                  : Upper : Fixed : Stale : Domain\n",
      "        None :  None : -8.122380974988762e-09 :  None : False : False :  Reals\n",
      "\n",
      "  Objectives:\n",
      "    obj : Size=1, Index=None, Active=True\n",
      "        Key  : Active : Value\n",
      "        None :   True : -4.472135985695692\n",
      "\n",
      "  Constraints:\n",
      "    cons1 : Size=1\n",
      "        Key  : Lower : Body               : Upper\n",
      "        None :  None : -89.44272046253788 :  25.0\n",
      "    cons2 : Size=1\n",
      "        Key  : Lower : Body             : Upper\n",
      "        None :  16.0 : 400.000008059979 :  None\n",
      "    cons3 : Size=1\n",
      "        Key  : Lower : Body              : Upper\n",
      "        None :  None : 20.00000017753845 :  20.0\n",
      "    cons4 : Size=1\n",
      "        Key  : Lower : Body                   : Upper\n",
      "        None :   0.0 : -8.122380974988762e-09 :  None\n"
     ]
    }
   ],
   "source": [
    "# Miramos que restricciones están saturadas:\n",
    "mod2.display()"
   ]
  },
  {
   "cell_type": "markdown",
   "id": "6a7eaf33",
   "metadata": {},
   "source": [
    "Vemos que la única restricción saturada es la tercera (`cons3`) y la cuarta (`cons4`). Por lo tanto solo nos tenemos que fijar en: \n",
    "- $g_{3}(x,y)=x^{2}+3y\\leq 20$\n",
    "- $g_{4}(x,y)=-y\\leq 0$. (NOTA: La convertimos en restricción de $\\leq$)"
   ]
  },
  {
   "cell_type": "markdown",
   "id": "0806a45f",
   "metadata": {},
   "source": [
    "Calcular los gradientes de la función objetivo y las restricciones (solo sería necesario para $g_3$ y $g_{4}$) en dicho punto:\n",
    "\\begin{eqnarray*}\n",
    "\\nabla f(x,y)     & = & (1,1) \\Rightarrow \\nabla f(-4.47,0) = (1,1)\\\\\n",
    "\\nabla g_{1}(x,y) & = & (3x,1) \\Rightarrow \\nabla g_{1}(-4.47,0) = (-13.42,1)\\\\\n",
    "\\nabla g_{2}(x,y) & = & (4x,2) \\Rightarrow \\nabla g_{2}(-4.47,0) = (-17.89,2)\\\\\n",
    "\\nabla g_{3}(x,y) & = & (2x,3) \\Rightarrow \\nabla g_{3}(-4.47,0) = (-8.94,3)\\\\\n",
    "\\nabla g_{4}(x,y) & = & (0,-1) \\Rightarrow \\nabla g_{3}(-4.47,0) = (0,-1)\\\\\n",
    "\\end{eqnarray*}"
   ]
  },
  {
   "cell_type": "markdown",
   "id": "5a8bafd9",
   "metadata": {},
   "source": [
    "Llamemos $u_{3}$ y $u_{4}$ al multiplicador asociados a la restricción $g_{3}$ y $g_{4}$, respectivamente. Entonces:\n",
    "$$\n",
    "\\nabla f(\\pmb{\\bar{x}}) + \\sum_{i\\in I(\\pmb{\\bar{x}})}u_{i}\\nabla g_{i}(\\pmb{\\bar{x}}) = \\left( \\begin{array}{c} 1 \\\\ 1 \\end{array} \\right) + u_{3}\\left( \\begin{array}{c} −8.94 \\\\ 3 \\end{array} \\right) + u_{4}\\left( \\begin{array}{c} 0 \\\\ -1 \\end{array} \\right) = \\pmb{0}\n",
    "$$"
   ]
  },
  {
   "cell_type": "markdown",
   "id": "c1ffae71",
   "metadata": {},
   "source": [
    "De la primera ecuación obtenemos que:\n",
    "$$\n",
    "u_{3}=\\dfrac{1}{8.94}=0.11\n",
    "$$\n",
    "De la segunda ecuación se obtiene:\n",
    "$$\n",
    "u_{4}=1+3\\cdot \\dfrac{1}{8.94} = 1.335\n",
    "$$\n",
    "Por lo tanto, existe $u_{3}=0.11\\geq 0$ y $u_{4}=1.335\\geq 0$ verificando dichas condiciones, por lo que podemos afirmar que $\\pmb{\\bar{x}}=(-4.47,0)$ es un punto **KKT** del problema."
   ]
  },
  {
   "cell_type": "markdown",
   "id": "3320c5cf",
   "metadata": {},
   "source": [
    "A continuación calculamos los multiplicadores de Lagrange pidiéndole a Pyomo que nos diga los valores duales asociados a las restricciones. Para ello, debemos de especcificar al solver que nos pase dicha información y resolver de nuevo."
   ]
  },
  {
   "cell_type": "code",
   "execution_count": 14,
   "id": "3a7c85f1",
   "metadata": {},
   "outputs": [
    {
     "name": "stdout",
     "output_type": "stream",
     "text": [
      "dual : Direction=IMPORT, Datatype=FLOAT\n",
      "    Key   : Value\n",
      "    cons1 : -2.185162711998076e-11\n",
      "    cons2 :  6.508432959926355e-12\n",
      "    cons3 :   -0.11180339871779163\n",
      "    cons4 :     1.3354101961622098\n"
     ]
    }
   ],
   "source": [
    "# Calculamos los duales asociados a las restricciones:\n",
    "mod2.dual = pe.Suffix(direction=pe.Suffix.IMPORT)\n",
    "results = solver_ipopt.solve(mod2)\n",
    "mod2.dual.pprint()"
   ]
  },
  {
   "cell_type": "markdown",
   "id": "63af1409",
   "metadata": {},
   "source": [
    "Notemos que el dual asociado a la restricción $g_{3}$ y $g_{4}$ coinciden con los multiplicadores que hemos obtenido analíticamente (el de $g_3$ con signo contrario)."
   ]
  },
  {
   "cell_type": "markdown",
   "id": "4fb70c01",
   "metadata": {},
   "source": [
    "Notemos que aunque $\\pmb{\\bar{x}}=(-4.47,0)$ es un punto **KKT** del problema, no podemos afirmar que se trata del óptimo global (ni siquiera de un óptimo local) puesto que el problema es no convexo (la región factible es no convexa) y por lo tanto las condiciones de $KKT$ no son suficientes. "
   ]
  }
 ],
 "metadata": {
  "kernelspec": {
   "display_name": "Python 3 (ipykernel)",
   "language": "python",
   "name": "python3"
  },
  "language_info": {
   "codemirror_mode": {
    "name": "ipython",
    "version": 3
   },
   "file_extension": ".py",
   "mimetype": "text/x-python",
   "name": "python",
   "nbconvert_exporter": "python",
   "pygments_lexer": "ipython3",
   "version": "3.13.9"
  }
 },
 "nbformat": 4,
 "nbformat_minor": 5
}
