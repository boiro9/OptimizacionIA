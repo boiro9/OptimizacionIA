{
 "cells": [
  {
   "cell_type": "markdown",
   "id": "fb0173e7",
   "metadata": {},
   "source": [
    "# 🧮 Laboratorio Programación No Lineal\n",
    "\n",
    "[![Open in Binder](https://mybinder.org/badge_logo.svg)](https://mybinder.org/v2/gh/boiro9/OptimizacionIA/main?filepath=Laboratorio_ProgramacionNoLineal.ipynb)\n",
    "\n",
    "En esta práctica vamos a resolver en **Pyomo** los distintos problemas de **programación no lineal** que se han ilustrado en las diapositivas de las clases expositivas.  \n",
    "\n",
    "Uno de los puntos importantes que trabajaremos será ver cómo se pueden obtener los **multiplicadores de lagrange** de un problema resuelto con Pyomo. Esta será muy relevante para verificar si la solución obtenidas cumple las condiciones de KKT.\n"
   ]
  },
  {
   "cell_type": "markdown",
   "id": "26ffc9f0",
   "metadata": {},
   "source": [
    "Recordemos que formulación general de un problema de programación no lineal viene dada por:\n",
    "$$\n",
    "\\begin{array}{rlll}\n",
    "\\min & \\displaystyle f(\\pmb{x}) & & \\\\\n",
    "&&& \\\\\n",
    "\\text{s.a.} & g_{i}(\\pmb{x})\\leq 0 & &i=1,\\ldots,m \\\\\n",
    "\t        & h_{j}(\\pmb{x})=0     & &j=1,\\ldots,l \\\\\n",
    "\\end{array}\n",
    "$$\n",
    "donde las funciones $f$, $g_{i}$ y $h_{j}$ pueden ser funciones no lineales y no convexas. "
   ]
  },
  {
   "cell_type": "markdown",
   "id": "e1066601-bcca-4e5e-a81a-da003e20c805",
   "metadata": {},
   "source": [
    "# 🚀  Instalación de paquetes:\n",
    "\n",
    "Los requerimientos para poder ejecutar este jupyter son los siguientes:"
   ]
  },
  {
   "cell_type": "code",
   "execution_count": 29,
   "id": "d5a2e904-e0cb-48d2-96e7-d52ea46f3e27",
   "metadata": {},
   "outputs": [],
   "source": [
    "# Instalar pyomo y amplpy\n",
    "!pip install pyomo amplpy -q\n",
    "# Instalar los solvers: HiGHS, CBC, Couenne, Bonmin, Ipopt, SCIP y GCG\n",
    "!python -m amplpy.modules install coin highs scip gcg -q"
   ]
  },
  {
   "cell_type": "markdown",
   "id": "58f2f519-58a4-4653-aea5-13722fa6da11",
   "metadata": {},
   "source": [
    "<div style=\"border:1px solid #f0ad4e; padding:10px; border-radius:5px; background-color:#fcf8e3;\">\n",
    "<strong>⚠️ Advertencia: </strong>  <br>\n",
    "Si ya has instalado previamente estos paquetes, y utilizas el mismo entorno de Python, <b>NO</b> es necesario que los vuelvas a instalar.\n",
    "</div>"
   ]
  },
  {
   "cell_type": "markdown",
   "id": "9b2dc8bb",
   "metadata": {},
   "source": [
    "## Ejemplo 1 (diapositiva página 10)"
   ]
  },
  {
   "cell_type": "markdown",
   "id": "49607ac0",
   "metadata": {},
   "source": [
    "$$\n",
    "\\begin{array}{rl}\n",
    "\\min       & (x_{1}-\\dfrac{3}{2})^{2}+(x_{2}-5)^{2} \\\\\n",
    "\\text{s.a.}& -x_{1}+x_{2} \\leq 2 \\\\\n",
    "           & x_{1}+2x_{2} \\leq 7\\\\\n",
    "           & 2x_{1}+2x_{2} \\leq 11\\\\\n",
    "\t\t   & x_{1}\\geq 0 \\\\\n",
    "           & x_{2}\\geq 0\n",
    "\\end{array}\n",
    "$$"
   ]
  },
  {
   "cell_type": "code",
   "execution_count": 30,
   "id": "eb59655a",
   "metadata": {},
   "outputs": [],
   "source": [
    "import pyomo.environ as pe\n",
    "\n",
    "modelo1 = pe.ConcreteModel('Ejemplo 1')\n",
    "\n",
    "# Variables\n",
    "modelo1.x1 = pe.Var(within=pe.NonNegativeReals) \n",
    "modelo1.x2 = pe.Var(within=pe.NonNegativeReals) \n",
    "\n",
    "# Función objetivo\n",
    "modelo1.obj = pe.Objective(expr=(modelo1.x1-3/2)**2+(modelo1.x2-5)**2,sense=pe.minimize)\n",
    "\n",
    "# Restricción 1:\n",
    "modelo1.cons1 = pe.Constraint(expr=-modelo1.x1 + modelo1.x2 <= 2)\n",
    "\n",
    "# Restricción 2:\n",
    "modelo1.cons2 = pe.Constraint(expr= modelo1.x1 + 2*modelo1.x2 <= 7)\n",
    "\n",
    "# Restricción 3:\n",
    "modelo1.cons3 = pe.Constraint(expr= 2*modelo1.x1 + 2*modelo1.x2 <= 11)\n"
   ]
  },
  {
   "cell_type": "markdown",
   "id": "cc5d1bc8",
   "metadata": {},
   "source": [
    "El solver que utilizaremos para resolver los problemas de programación no lineal será **Ipopt**. Lo definiremos a través del acceso a los solvers que nos proporciona `amplpy`. Es importante destacar que una vez lo tenemos definido, la siguiente vez que queramos usarlo no sería neceseario definirlo de nuevo."
   ]
  },
  {
   "cell_type": "code",
   "execution_count": 31,
   "id": "c8955eb4",
   "metadata": {},
   "outputs": [],
   "source": [
    "from amplpy import modules\n",
    "solver_name = \"ipopt\"  # Opciones: \"highs\", \"cbc\", \"couenne\", \"bonmin\", \"ipopt\", \"scip\", \"gcg\".\n",
    "solver_ipopt = pe.SolverFactory(\n",
    "    solver_name+\"nl\",\n",
    "    executable=modules.find(solver_name),\n",
    "    solve_io=\"nl\"\n",
    ")"
   ]
  },
  {
   "cell_type": "code",
   "execution_count": 32,
   "id": "27de90e9",
   "metadata": {
    "scrolled": true
   },
   "outputs": [
    {
     "name": "stdout",
     "output_type": "stream",
     "text": [
      "*** Solucion *** :\n",
      "x1: 1.0000000120126342\n",
      "x2: 3.000000028241969\n",
      "Funcion objetivo:  4.24999987501949\n"
     ]
    }
   ],
   "source": [
    "results = solver_ipopt.solve(modelo1)\n",
    "print('*** Solucion *** :')\n",
    "print('x1:', modelo1.x1())\n",
    "print('x2:', modelo1.x2())\n",
    "print('Funcion objetivo: ',modelo1.obj())"
   ]
  },
  {
   "cell_type": "markdown",
   "id": "4ffefabe-4b08-419e-a504-313e2d101ef9",
   "metadata": {},
   "source": [
    "Si queremos inspeccionar el modelo para ver si lo hemos formulado correctamente podemos usar el método `pprint()`, que nos saca información muy detallada del mismo."
   ]
  },
  {
   "cell_type": "code",
   "execution_count": 33,
   "id": "b7a761cb",
   "metadata": {},
   "outputs": [
    {
     "name": "stdout",
     "output_type": "stream",
     "text": [
      "2 Var Declarations\n",
      "    x1 : Size=1, Index=None\n",
      "        Key  : Lower : Value              : Upper : Fixed : Stale : Domain\n",
      "        None :     0 : 1.0000000120126342 :  None : False : False : NonNegativeReals\n",
      "    x2 : Size=1, Index=None\n",
      "        Key  : Lower : Value             : Upper : Fixed : Stale : Domain\n",
      "        None :     0 : 3.000000028241969 :  None : False : False : NonNegativeReals\n",
      "\n",
      "1 Objective Declarations\n",
      "    obj : Size=1, Index=None, Active=True\n",
      "        Key  : Active : Sense    : Expression\n",
      "        None :   True : minimize : (x1 - 1.5)**2 + (x2 - 5)**2\n",
      "\n",
      "3 Constraint Declarations\n",
      "    cons1 : Size=1, Index=None, Active=True\n",
      "        Key  : Lower : Body      : Upper : Active\n",
      "        None :  -Inf : - x1 + x2 :   2.0 :   True\n",
      "    cons2 : Size=1, Index=None, Active=True\n",
      "        Key  : Lower : Body      : Upper : Active\n",
      "        None :  -Inf : x1 + 2*x2 :   7.0 :   True\n",
      "    cons3 : Size=1, Index=None, Active=True\n",
      "        Key  : Lower : Body        : Upper : Active\n",
      "        None :  -Inf : 2*x1 + 2*x2 :  11.0 :   True\n",
      "\n",
      "6 Declarations: x1 x2 obj cons1 cons2 cons3\n"
     ]
    }
   ],
   "source": [
    "modelo1.pprint()"
   ]
  },
  {
   "cell_type": "markdown",
   "id": "b6a34191",
   "metadata": {},
   "source": [
    "## Ejemplo 6.1 (diapositiva página 18)"
   ]
  },
  {
   "cell_type": "markdown",
   "id": "f22b90bd",
   "metadata": {},
   "source": [
    "$$\n",
    "\\begin{array}{rl}\n",
    "\\min       & (x_{1}-3)^{2}+(x_{2}-2)^{2} \\\\\n",
    "\\text{s.a.}& x_{1}^{2}+x_{2}^{2} \\leq 5 \\\\\n",
    "           & x_{1}+x_{2} \\leq 3\\\\\n",
    "\t\t   & x_{1}\\geq 0 \\\\\n",
    "           & x_{2}\\geq 0\n",
    "\\end{array}\n",
    "$$"
   ]
  },
  {
   "cell_type": "code",
   "execution_count": 34,
   "id": "ce5b92e4",
   "metadata": {},
   "outputs": [],
   "source": [
    "import pyomo.environ as pe\n",
    "\n",
    "modelo2 = pe.ConcreteModel(\"Ejemplo 6.1\")\n",
    "\n",
    "# Variables\n",
    "modelo2.x1 = pe.Var(within=pe.NonNegativeReals) \n",
    "modelo2.x2 = pe.Var(within=pe.NonNegativeReals) \n",
    "\n",
    "# Función objetivo\n",
    "modelo2.obj = pe.Objective(expr=(modelo2.x1-3)**2+(modelo2.x2-2)**2,sense=pe.minimize)\n",
    "\n",
    "# Restricción 1:\n",
    "modelo2.cons1 = pe.Constraint(expr=modelo2.x1**2 + modelo2.x2**2 <= 5)\n",
    "\n",
    "# Restricción 2:\n",
    "modelo2.cons2 = pe.Constraint(expr= modelo2.x1 + modelo2.x2 <= 3)\n"
   ]
  },
  {
   "cell_type": "code",
   "execution_count": 35,
   "id": "fbc7c814",
   "metadata": {
    "scrolled": true
   },
   "outputs": [
    {
     "name": "stdout",
     "output_type": "stream",
     "text": [
      "*** Solucion *** :\n",
      "x1: 1.9999668104799597\n",
      "x2: 1.0000332190655201\n",
      "Funcion objetivo:  1.9999999431140907\n"
     ]
    }
   ],
   "source": [
    "results = solver_ipopt.solve(modelo2)\n",
    "print('*** Solucion *** :')\n",
    "print('x1:', modelo2.x1())\n",
    "print('x2:', modelo2.x2())\n",
    "print('Funcion objetivo: ',modelo2.obj())"
   ]
  },
  {
   "cell_type": "code",
   "execution_count": 36,
   "id": "f7c8be7f",
   "metadata": {},
   "outputs": [],
   "source": [
    "# modelo2.pprint()"
   ]
  },
  {
   "cell_type": "markdown",
   "id": "2dfe6faa",
   "metadata": {},
   "source": [
    "Para mirar qué restricciones están saturadas en la solución que ha encontrado el solver, podemos hacer un display del modelo: `display`. Simplemente nos tenemos que fijar si el \"body\" de la restricción (valor de la restricción evaluada en el punto), coincide con su cota inferior (\"Lower\") o superior (\"Upper\")."
   ]
  },
  {
   "cell_type": "code",
   "execution_count": 37,
   "id": "3fbe98b7",
   "metadata": {},
   "outputs": [
    {
     "name": "stdout",
     "output_type": "stream",
     "text": [
      "Model 'Ejemplo 6.1'\n",
      "\n",
      "  Variables:\n",
      "    x1 : Size=1, Index=None\n",
      "        Key  : Lower : Value              : Upper : Fixed : Stale : Domain\n",
      "        None :     0 : 1.9999668104799597 :  None : False : False : NonNegativeReals\n",
      "    x2 : Size=1, Index=None\n",
      "        Key  : Lower : Value              : Upper : Fixed : Stale : Domain\n",
      "        None :     0 : 1.0000332190655201 :  None : False : False : NonNegativeReals\n",
      "\n",
      "  Objectives:\n",
      "    obj : Size=1, Index=None, Active=True\n",
      "        Key  : Active : Value\n",
      "        None :   True : 1.9999999431140907\n",
      "\n",
      "  Constraints:\n",
      "    cons1 : Size=1\n",
      "        Key  : Lower : Body               : Upper\n",
      "        None :  None : 4.9999336822559295 :   5.0\n",
      "    cons2 : Size=1\n",
      "        Key  : Lower : Body             : Upper\n",
      "        None :  None : 3.00000002954548 :   3.0\n"
     ]
    }
   ],
   "source": [
    "modelo2.display()"
   ]
  },
  {
   "cell_type": "markdown",
   "id": "17b5dd89-7d66-419e-b882-86df2aefc0d6",
   "metadata": {},
   "source": [
    "En este caso podemos ver que la **restricción 2** ($x_{1}+x_{2} \\leq 3$) (`cons2`) está saturada porque su Body es de 3 ($x_{1}+x_{2}=2+1=3$) que coincide con el Upper."
   ]
  },
  {
   "cell_type": "markdown",
   "id": "04b3468c",
   "metadata": {},
   "source": [
    "## Ejemplo 6.2 (diapositiva página 22)"
   ]
  },
  {
   "cell_type": "markdown",
   "id": "507e1592",
   "metadata": {},
   "source": [
    "$$\n",
    "\\begin{array}{rl}\n",
    "\\min       & (x_{1}-3)^{2}+(x_{2}-2)^{2} \\\\\n",
    "\\text{s.a.}& x_{1}^{2}+x_{2}^{2} \\leq 5 \\\\\n",
    "           & x_{1}+2x_{2} \\leq 4\\\\\n",
    "\t\t   & x_{1}\\geq 0 \\\\\n",
    "           & x_{2}\\geq 0\n",
    "\\end{array}\n",
    "$$"
   ]
  },
  {
   "cell_type": "code",
   "execution_count": 38,
   "id": "a153d54c",
   "metadata": {},
   "outputs": [],
   "source": [
    "import pyomo.environ as pe\n",
    "\n",
    "modelo3 = pe.ConcreteModel('Ejemplo 6.2')\n",
    "\n",
    "# Variables\n",
    "modelo3.x1 = pe.Var(within=pe.NonNegativeReals) \n",
    "modelo3.x2 = pe.Var(within=pe.NonNegativeReals) \n",
    "\n",
    "# Función objetivo\n",
    "modelo3.obj = pe.Objective(expr=(modelo3.x1-3)**2+(modelo3.x2-2)**2,sense=pe.minimize)\n",
    "\n",
    "# Restricción 1:\n",
    "modelo3.cons1 = pe.Constraint(expr=modelo3.x1**2 + modelo3.x2**2 <= 5)\n",
    "\n",
    "# Restricción 2:\n",
    "modelo3.cons2 = pe.Constraint(expr= modelo3.x1 + 2*modelo3.x2 <= 4)\n"
   ]
  },
  {
   "cell_type": "code",
   "execution_count": 39,
   "id": "a028cabe",
   "metadata": {
    "scrolled": true
   },
   "outputs": [
    {
     "name": "stdout",
     "output_type": "stream",
     "text": [
      "*** Solucion *** :\n",
      "x1: 2.0000000020797604\n",
      "x2: 1.000000017077632\n",
      "Funcion objetivo:  1.9999999616852158\n"
     ]
    }
   ],
   "source": [
    "results = solver_ipopt.solve(modelo3)\n",
    "print('*** Solucion *** :')\n",
    "print('x1:', modelo3.x1())\n",
    "print('x2:', modelo3.x2())\n",
    "print('Funcion objetivo: ',modelo3.obj())"
   ]
  },
  {
   "cell_type": "code",
   "execution_count": 40,
   "id": "56308408",
   "metadata": {},
   "outputs": [],
   "source": [
    "#modelo3.pprint()"
   ]
  },
  {
   "cell_type": "markdown",
   "id": "d8b3499a",
   "metadata": {},
   "source": [
    "Veamos qué restricciones están saturadas usando el método `display()`."
   ]
  },
  {
   "cell_type": "code",
   "execution_count": 41,
   "id": "9d41937b",
   "metadata": {},
   "outputs": [
    {
     "name": "stdout",
     "output_type": "stream",
     "text": [
      "Model 'Ejemplo 6.2'\n",
      "\n",
      "  Variables:\n",
      "    x1 : Size=1, Index=None\n",
      "        Key  : Lower : Value              : Upper : Fixed : Stale : Domain\n",
      "        None :     0 : 2.0000000020797604 :  None : False : False : NonNegativeReals\n",
      "    x2 : Size=1, Index=None\n",
      "        Key  : Lower : Value             : Upper : Fixed : Stale : Domain\n",
      "        None :     0 : 1.000000017077632 :  None : False : False : NonNegativeReals\n",
      "\n",
      "  Objectives:\n",
      "    obj : Size=1, Index=None, Active=True\n",
      "        Key  : Active : Value\n",
      "        None :   True : 1.9999999616852158\n",
      "\n",
      "  Constraints:\n",
      "    cons1 : Size=1\n",
      "        Key  : Lower : Body              : Upper\n",
      "        None :  None : 5.000000042474306 :   5.0\n",
      "    cons2 : Size=1\n",
      "        Key  : Lower : Body              : Upper\n",
      "        None :  None : 4.000000036235024 :   4.0\n"
     ]
    }
   ],
   "source": [
    "modelo3.display()"
   ]
  },
  {
   "cell_type": "markdown",
   "id": "4ad084f4",
   "metadata": {},
   "source": [
    "En este caso vemos que las dos restricciones, `cons1` y `cons2`, están saturadas"
   ]
  },
  {
   "cell_type": "markdown",
   "id": "f1d4a2bf-383d-4d1a-ab42-bec544723b0c",
   "metadata": {},
   "source": [
    "<div style=\"border: 2px solid #4CAF50; background-color: #E8F5E9; padding: 10px; border-radius: 8px;\">\n",
    "<b>💡 Obtención de multiplicadores de lagrange con Pyomo:</b>  \n",
    "<br>Cuando se formula un problema en Pyomo, es posible pedirle que nos devuelva información acerca de las variables duales (recuerda que existe una equivalencia entre variables duales y multiplicadores de Lagrange bajo ciertas condiciones (ver <b>Teorema 6.8</b>)). Para que Pyomo nos devuelva esta información debemos, antes de llamar al solver, crear un nuevo atributo (<code>.dual</code>) al objeto con el modelo (<code>modelo</code>) que le indique al solver que envíe dicha información, de la siguiente manera:<br>\n",
    "    \n",
    "``modelo1.dual = pe.Suffix(direction=pe.Suffix.IMPORT)``\n",
    "</div>\n"
   ]
  },
  {
   "cell_type": "code",
   "execution_count": 42,
   "id": "d3b2f199",
   "metadata": {},
   "outputs": [],
   "source": [
    "modelo3.dual = pe.Suffix(direction=pe.Suffix.IMPORT)\n",
    "results = solver_ipopt.solve(modelo3)\n",
    "#print(\"Duals\")\n",
    "#for c in modelo1.component_objects(pe.Constraint, active=True):\n",
    "#    print(\"   Constraint\", c)\n",
    "#    for index in c:\n",
    "#        print(\"      \", index, modelo1.dual[c[index]])"
   ]
  },
  {
   "cell_type": "code",
   "execution_count": 43,
   "id": "fd870e66",
   "metadata": {},
   "outputs": [
    {
     "name": "stdout",
     "output_type": "stream",
     "text": [
      "dual : Direction=IMPORT, Datatype=FLOAT\n",
      "    Key   : Value\n",
      "    cons1 : -0.3333333390164021\n",
      "    cons2 : -0.6666666395379771\n"
     ]
    }
   ],
   "source": [
    "modelo3.dual.pprint()"
   ]
  },
  {
   "cell_type": "code",
   "execution_count": 44,
   "id": "119389cc",
   "metadata": {},
   "outputs": [
    {
     "data": {
      "text/plain": [
       "-0.3333333390164021"
      ]
     },
     "execution_count": 44,
     "metadata": {},
     "output_type": "execute_result"
    }
   ],
   "source": [
    "modelo3.dual[modelo3.cons1]"
   ]
  },
  {
   "cell_type": "code",
   "execution_count": 45,
   "id": "f1ea9948",
   "metadata": {},
   "outputs": [
    {
     "data": {
      "text/plain": [
       "-0.6666666395379771"
      ]
     },
     "execution_count": 45,
     "metadata": {},
     "output_type": "execute_result"
    }
   ],
   "source": [
    "modelo3.dual[modelo3.cons2]"
   ]
  },
  {
   "cell_type": "markdown",
   "id": "7c2406c8-dcc0-4d3a-85f6-6c10c00ca4dc",
   "metadata": {},
   "source": [
    "<div style=\"border:2px solid #f0ad4e; padding:10px; border-radius:5px; background-color:#fcf8e3;\">\n",
    "<b>⚠️ IMPORTANTE: </b>  <br>\n",
    "Es importante tener en cuenta que Pyomo devuelve los multiplicadores con <b>signo contrario</b> al que obtuvimos en clase:\n",
    "$$\n",
    "u_1 \\approx \\frac{1}{3} \\qquad \\qquad \\qquad u_2 \\approx \\frac{2}{3}\n",
    "$$\n",
    "</div>"
   ]
  },
  {
   "cell_type": "markdown",
   "id": "29701971",
   "metadata": {},
   "source": [
    "## Ejemplo 6.2 (diapositiva página 22)\n",
    "\n",
    "$$\n",
    "\\begin{array}{rl}\n",
    "\\min       & (x_{1}-3)^{2}+(x_{2}-2)^{2} \\\\\n",
    "\\text{s.a.}& x_{1}^{2}+x_{2}^{2} \\leq b_{1} \\\\\n",
    "           & x_{1}+2x_{2} \\leq b_{2}\\\\\n",
    "\t\t   & x_{1}\\geq 0 \\\\\n",
    "           & x_{2}\\geq 0\n",
    "\\end{array}\n",
    "$$"
   ]
  },
  {
   "cell_type": "markdown",
   "id": "29348837-3ae5-44af-bdd6-a3e55fafa3ee",
   "metadata": {},
   "source": [
    "<div style=\"border: 2px solid #4CAF50; background-color: #E8F5E9; padding: 12px; border-radius: 8px; line-height: 1.5;\">\n",
    "<b>💡 Uso de parámetros en Pyomo:</b><br>\n",
    "Como en este ejemplo queremos resolver varias veces el mismo problema simplemente cambiando los lados derechos de las restricciones \n",
    "$b_1$ y $b_2$, emplearemos el objeto <code>Param</code> de Pyomo. De esta manera, si los definimos como <code>Param</code> podemos \n",
    "especificarle un valor inicial (<code>initialize</code>) y también debemos definir <code>mutable=True</code> para que nos permita cambiar \n",
    "el valor de los mismos y resolverlo de nuevo sin necesidad de recrear el modelo desde cero.\n",
    "\n",
    "<code>\n",
    "modelo4.b1 = pe.Param(initialize=5.1, mutable=True)\n",
    "modelo4.b2 = pe.Param(initialize=4, mutable=True)\n",
    "</code>\n",
    "</div>\n"
   ]
  },
  {
   "cell_type": "code",
   "execution_count": 46,
   "id": "77f1d5fc",
   "metadata": {},
   "outputs": [],
   "source": [
    "import pyomo.environ as pe\n",
    "\n",
    "modelo4 = pe.ConcreteModel('Ejemplo 6.2 (sensibilidad)')\n",
    "\n",
    "modelo4.b1 = pe.Param(initialize=5.1, mutable=True)\n",
    "modelo4.b2 = pe.Param(initialize=4, mutable=True)\n",
    "\n",
    "# Variables\n",
    "modelo4.x1 = pe.Var(within=pe.NonNegativeReals) \n",
    "modelo4.x2 = pe.Var(within=pe.NonNegativeReals) \n",
    "\n",
    "# Función objetivo\n",
    "modelo4.obj = pe.Objective(expr=(modelo4.x1-3)**2+(modelo4.x2-2)**2,sense=pe.minimize)\n",
    "\n",
    "# Restricción 1:\n",
    "modelo4.cons1 = pe.Constraint(expr=modelo4.x1**2 + modelo4.x2**2 <= modelo4.b1)\n",
    "\n",
    "# Restricción 2:\n",
    "modelo4.cons2 = pe.Constraint(expr= modelo4.x1 + 2*modelo4.x2 <=  modelo4.b2)"
   ]
  },
  {
   "cell_type": "markdown",
   "id": "d5e7e421",
   "metadata": {},
   "source": [
    "**Variación 1**: Resolvemos para $b_1=5.1$ y $b_2=4$: "
   ]
  },
  {
   "cell_type": "code",
   "execution_count": 47,
   "id": "aaab0f5e",
   "metadata": {},
   "outputs": [
    {
     "name": "stdout",
     "output_type": "stream",
     "text": [
      "*** Solucion *** :\n",
      "x1: 2.0328828027391457\n",
      "x2: 0.9835586168988126\n",
      "Funcion objetivo:  1.968468758518345\n"
     ]
    }
   ],
   "source": [
    "results = solver_ipopt.solve(modelo4)\n",
    "print('*** Solucion *** :')\n",
    "print('x1:', modelo4.x1())\n",
    "print('x2:', modelo4.x2())\n",
    "print('Funcion objetivo: ',modelo4.obj())"
   ]
  },
  {
   "cell_type": "markdown",
   "id": "5d992657",
   "metadata": {},
   "source": [
    "**Variación 2**: Resolvemos para $b_1=5$ y $b_2=4.1$: "
   ]
  },
  {
   "cell_type": "code",
   "execution_count": 48,
   "id": "c45d4c7f",
   "metadata": {},
   "outputs": [
    {
     "name": "stdout",
     "output_type": "stream",
     "text": [
      "*** Solucion *** :\n",
      "x1: 1.9647270443631604\n",
      "x2: 1.0676364949302408\n",
      "Funcion objetivo:  1.9410917982590046\n"
     ]
    }
   ],
   "source": [
    "modelo4.b1 = 5\n",
    "modelo4.b2 = 4.1\n",
    "results = solver_ipopt.solve(modelo4)\n",
    "print('*** Solucion *** :')\n",
    "print('x1:', modelo4.x1())\n",
    "print('x2:', modelo4.x2())\n",
    "print('Funcion objetivo: ',modelo4.obj())"
   ]
  },
  {
   "cell_type": "markdown",
   "id": "110ce4ab",
   "metadata": {},
   "source": [
    "**Variación 3**: Resolvemos para $b_1=6$ y $b_2=4$: "
   ]
  },
  {
   "cell_type": "code",
   "execution_count": 49,
   "id": "f3ddcd00",
   "metadata": {},
   "outputs": [
    {
     "name": "stdout",
     "output_type": "stream",
     "text": [
      "*** Solucion *** :\n",
      "x1: 2.2966629519353865\n",
      "x2: 0.8516685428870004\n",
      "Funcion objetivo:  1.8133481385755095\n"
     ]
    }
   ],
   "source": [
    "modelo4.b1 = 6\n",
    "modelo4.b2 = 4\n",
    "results = solver_ipopt.solve(modelo4)\n",
    "print('*** Solucion *** :')\n",
    "print('x1:', modelo4.x1())\n",
    "print('x2:', modelo4.x2())\n",
    "print('Funcion objetivo: ',modelo4.obj())"
   ]
  },
  {
   "cell_type": "markdown",
   "id": "69e65e56",
   "metadata": {},
   "source": [
    "**Variación 4**: Resolvemos para $b_1=5$ y $b_2=5$: "
   ]
  },
  {
   "cell_type": "code",
   "execution_count": 50,
   "id": "e575b30c",
   "metadata": {},
   "outputs": [
    {
     "name": "stdout",
     "output_type": "stream",
     "text": [
      "*** Solucion *** :\n",
      "x1: 1.8605210279471032\n",
      "x2: 1.2403473507360883\n",
      "Funcion objetivo:  1.8754844752844062\n"
     ]
    }
   ],
   "source": [
    "modelo4.b1 = 5\n",
    "modelo4.b2 = 5\n",
    "results = solver_ipopt.solve(modelo4)\n",
    "print('*** Solucion *** :')\n",
    "print('x1:', modelo4.x1())\n",
    "print('x2:', modelo4.x2())\n",
    "print('Funcion objetivo: ',modelo4.obj())"
   ]
  }
 ],
 "metadata": {
  "kernelspec": {
   "display_name": "Python 3 (ipykernel)",
   "language": "python",
   "name": "python3"
  },
  "language_info": {
   "codemirror_mode": {
    "name": "ipython",
    "version": 3
   },
   "file_extension": ".py",
   "mimetype": "text/x-python",
   "name": "python",
   "nbconvert_exporter": "python",
   "pygments_lexer": "ipython3",
   "version": "3.13.9"
  }
 },
 "nbformat": 4,
 "nbformat_minor": 5
}
